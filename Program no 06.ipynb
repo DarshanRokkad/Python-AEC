{
 "cells": [
  {
   "cell_type": "markdown",
   "id": "9a8c1bcc",
   "metadata": {},
   "source": [
    "# <font color = 'blue'> Program no 6\n",
    "\n",
    "### Write a python program to accept a sequence of whitespace separated words as input and prints the words after removing all duplicate words and sorting them alphanumerically."
   ]
  },
  {
   "cell_type": "code",
   "execution_count": 3,
   "id": "a48482d1",
   "metadata": {},
   "outputs": [
    {
     "name": "stdout",
     "output_type": "stream",
     "text": [
      "Enter a sequence of whitespace-separated words: apple 123 orange 456 banana abc 789 apple orange 123\n",
      "\n",
      "Words after removing duplicates and sorting:  abc apple banana orange 123 456 789\n"
     ]
    }
   ],
   "source": [
    "import re\n",
    "\n",
    "def remove_duplicates_and_sort_words(sentence):\n",
    "    words = re.findall(r'\\w+', sentence)\n",
    "    unique_words = list(set(words))\n",
    "    unique_words.sort(key=lambda x: (x.isdigit(), x.lower()))\n",
    "    return unique_words\n",
    "\n",
    "input_sentence = input(\"Enter a sequence of whitespace-separated words: \")\n",
    "result = remove_duplicates_and_sort_words(input_sentence)\n",
    "print()\n",
    "print(\"Words after removing duplicates and sorting: \",end=' ')\n",
    "print(' '.join(result))\n"
   ]
  }
 ],
 "metadata": {
  "kernelspec": {
   "display_name": "Python 3 (ipykernel)",
   "language": "python",
   "name": "python3"
  },
  "language_info": {
   "codemirror_mode": {
    "name": "ipython",
    "version": 3
   },
   "file_extension": ".py",
   "mimetype": "text/x-python",
   "name": "python",
   "nbconvert_exporter": "python",
   "pygments_lexer": "ipython3",
   "version": "3.9.13"
  }
 },
 "nbformat": 4,
 "nbformat_minor": 5
}
