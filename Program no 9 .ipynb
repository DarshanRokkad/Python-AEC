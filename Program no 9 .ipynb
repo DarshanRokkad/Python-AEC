{
 "cells": [
  {
   "cell_type": "markdown",
   "id": "78d11b87",
   "metadata": {},
   "source": [
    "# Not yet completed "
   ]
  },
  {
   "cell_type": "markdown",
   "id": "31c3df6b",
   "metadata": {},
   "source": [
    "# <font color = 'blue'> Program no 9\n",
    "### Create a class bill. Bill should contain date, customer name and details of # of items - name, rate, quantity, total amount. Make a bill and display it"
   ]
  },
  {
   "cell_type": "code",
   "execution_count": 2,
   "id": "8eca8927",
   "metadata": {},
   "outputs": [],
   "source": [
    "class Bill :\n",
    "    def __init__(self,date,customer_name,item_details):\n",
    "        self.date = date \n",
    "        self.name = customer_name\n",
    "        self.list_of_items = item_details\n",
    "    def print_bill(self):\n",
    "        print(\"-----------------------------\")\n",
    "        print(f\"Customer name : {self.name}\")\n",
    "        print(f\"Date of purchase : {self.date}\")\n",
    "        print()\n",
    "        print(\"Item details.\")\n",
    "        for item in list_of_items :\n",
    "            print(item.get('name','Name missing'))\n",
    "            print(item.get('rate',0))\n",
    "            print(item.get('quantity',0))\n",
    "            print(item.get('total_amount',0))\n",
    "        print(\"-----------------------------\")"
   ]
  },
  {
   "cell_type": "code",
   "execution_count": 4,
   "id": "6952915c",
   "metadata": {},
   "outputs": [],
   "source": [
    "def menu():\n",
    "    print(\"-----------------------------\")\n",
    "    print('        MENU')\n",
    "    print('1. Ice Cream(2 x 750 ml Multipack) = ₹450 ')\n",
    "    print('2. Munch Chocolate(8.9 g x 18 pcs) = ₹100 ')\n",
    "    print('3. Mysore Pak(250g ) = ₹350 ')\n",
    "    print('4. Rasgulla(1kg) = ₹250')    "
   ]
  },
  {
   "cell_type": "code",
   "execution_count": null,
   "id": "07a0911c",
   "metadata": {},
   "outputs": [],
   "source": [
    "from datetime import datetime\n",
    "def customer_details():\n",
    "    print(\"Enter your details.\")\n",
    "    name = input(\"Enter name : \")\n",
    "    date = datetime.now()\n",
    "    item_details = {'name':[],}"
   ]
  },
  {
   "cell_type": "code",
   "execution_count": null,
   "id": "6d00927f",
   "metadata": {},
   "outputs": [],
   "source": [
    "cus1 = Bill(customer_details())\n",
    "cus1.print_bill()"
   ]
  }
 ],
 "metadata": {
  "kernelspec": {
   "display_name": "Python 3 (ipykernel)",
   "language": "python",
   "name": "python3"
  },
  "language_info": {
   "codemirror_mode": {
    "name": "ipython",
    "version": 3
   },
   "file_extension": ".py",
   "mimetype": "text/x-python",
   "name": "python",
   "nbconvert_exporter": "python",
   "pygments_lexer": "ipython3",
   "version": "3.9.13"
  }
 },
 "nbformat": 4,
 "nbformat_minor": 5
}
