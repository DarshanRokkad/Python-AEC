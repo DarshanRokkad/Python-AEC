{
 "cells": [
  {
   "cell_type": "markdown",
   "id": "e83b8189",
   "metadata": {},
   "source": [
    "# <font color = 'blue'> Program no 3\n",
    "### Write a program to\n",
    "### i) Shuffle the deck of cards.\n",
    "### ii)To choose one single card from deck.\n",
    "### iii)To create a random sample of size 2 from the available deck of cards."
   ]
  },
  {
   "cell_type": "code",
   "execution_count": 4,
   "id": "a6988831",
   "metadata": {},
   "outputs": [
    {
     "name": "stdout",
     "output_type": "stream",
     "text": [
      "['Ace of Spades', '2 of Spades', '3 of Spades', '4 of Spades', '5 of Spades']\n",
      "\n",
      "['9 of Diamonds', '9 of Hearts', '8 of Spades', '2 of Diamonds', '7 of Clubs']\n",
      "\n",
      "Random card :  Jack of Hearts\n",
      "Random sample of 2 cards :  ['Queen of Clubs', '8 of Clubs']\n"
     ]
    }
   ],
   "source": [
    "import random \n",
    "\n",
    "ranks = ['Ace', '2', '3', '4', '5', '6', '7', '8', '9', '10', 'Jack', 'Queen', 'King']\n",
    "suits = ['Spades', 'Hearts', 'Diamonds', 'Clubs']\n",
    "deck = [rank+\" of \"+suit for suit in suits for rank in ranks]\n",
    "\n",
    "print(deck[:5])\n",
    "\n",
    "random.shuffle(deck)\n",
    "\n",
    "random_card = random.choice(deck)\n",
    "\n",
    "sample_of_cards = random.sample(deck, 2)\n",
    "\n",
    "print()\n",
    "print(deck[:5])\n",
    "print()\n",
    "print('Random card : ',random_card)\n",
    "print('Random sample of 2 cards : ',sample_of_cards)"
   ]
  },
  {
   "cell_type": "code",
   "execution_count": null,
   "id": "fccd9d7d",
   "metadata": {},
   "outputs": [],
   "source": []
  }
 ],
 "metadata": {
  "kernelspec": {
   "display_name": "Python 3 (ipykernel)",
   "language": "python",
   "name": "python3"
  },
  "language_info": {
   "codemirror_mode": {
    "name": "ipython",
    "version": 3
   },
   "file_extension": ".py",
   "mimetype": "text/x-python",
   "name": "python",
   "nbconvert_exporter": "python",
   "pygments_lexer": "ipython3",
   "version": "3.9.13"
  }
 },
 "nbformat": 4,
 "nbformat_minor": 5
}
