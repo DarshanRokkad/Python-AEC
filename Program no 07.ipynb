{
 "cells": [
  {
   "cell_type": "markdown",
   "id": "9fa34f3b",
   "metadata": {},
   "source": [
    "# <font color = 'blue'> Program no 7 \n",
    "### Solve the following using Recursion:\n",
    "### a) find the length of a string.\n",
    "### b) find the smallest element in a list . "
   ]
  },
  {
   "cell_type": "code",
   "execution_count": 1,
   "id": "f5ab783d",
   "metadata": {},
   "outputs": [
    {
     "name": "stdout",
     "output_type": "stream",
     "text": [
      "Enter a string : python\n",
      "Length of string : 6\n"
     ]
    }
   ],
   "source": [
    "def str_len(s):\n",
    "    if len(s) == 0:\n",
    "        return 0\n",
    "    return 1 + str_len(s[1:])\n",
    "\n",
    "string = input(\"Enter a string : \")\n",
    "print(f\"Length of string : {str_len(string)}\")"
   ]
  },
  {
   "cell_type": "code",
   "execution_count": 6,
   "id": "b119d246",
   "metadata": {},
   "outputs": [
    {
     "name": "stdout",
     "output_type": "stream",
     "text": [
      "Enter the number(Enter 0 to stop) : 1\n",
      "Enter the number(Enter 0 to stop) : 43\n",
      "Enter the number(Enter 0 to stop) : -2\n",
      "Enter the number(Enter 0 to stop) : -4\n",
      "Enter the number(Enter 0 to stop) : 0\n",
      "Minimum element in a list is -4\n"
     ]
    }
   ],
   "source": [
    "def min_element(l,min_value):\n",
    "    if len(l) == 1:\n",
    "        return min_value if min_value < l[0] else l[0]\n",
    "    return min_element(l[1:],l[0] if l[0] < min_value else min_value)\n",
    "\n",
    "num = []\n",
    "while(True):\n",
    "    n = int(input(\"Enter the number(Enter 0 to stop) : \"))\n",
    "    if n == 0 :\n",
    "        break\n",
    "    num.append(n)\n",
    "\n",
    "print(f\"Minimum element in a list is {min_element(num[1:] , num[0])}\")"
   ]
  }
 ],
 "metadata": {
  "kernelspec": {
   "display_name": "Python 3 (ipykernel)",
   "language": "python",
   "name": "python3"
  },
  "language_info": {
   "codemirror_mode": {
    "name": "ipython",
    "version": 3
   },
   "file_extension": ".py",
   "mimetype": "text/x-python",
   "name": "python",
   "nbconvert_exporter": "python",
   "pygments_lexer": "ipython3",
   "version": "3.9.13"
  }
 },
 "nbformat": 4,
 "nbformat_minor": 5
}
