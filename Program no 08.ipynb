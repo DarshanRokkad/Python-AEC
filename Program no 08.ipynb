{
 "cells": [
  {
   "cell_type": "markdown",
   "id": "6d81328f",
   "metadata": {},
   "source": [
    "# <font color = 'blue'> Program no 7 \n",
    "### Create a module called Util.py. Add functions for the following into this file.\n",
    "### a) convert temperature in Centigrade to Fahrenheit\n",
    "### b) convert temperature in Fahrenheit to Centigrade.\n"
   ]
  },
  {
   "cell_type": "code",
   "execution_count": 3,
   "id": "fbe7c0fd",
   "metadata": {},
   "outputs": [
    {
     "name": "stdout",
     "output_type": "stream",
     "text": [
      "Enter the degree centigrade : 45\n",
      "45.0 degree centigrade = 113.0 degree fahrenheit \n",
      "\n",
      "Enter the degree fahrenheit : 45\n",
      "45.0 degree fahrenheit = 7.22 degree centigrade \n"
     ]
    }
   ],
   "source": [
    "import util\n",
    "\n",
    "degree_centi = float(input(\"Enter the degree centigrade : \"))\n",
    "print(f'{degree_centi} degree centigrade = {round(util.convert_centigrade_to_fahrenheit(degree_centi),2)} degree fahrenheit ')\n",
    "\n",
    "print() \n",
    "\n",
    "degree_frani = float(input(\"Enter the degree fahrenheit : \"))\n",
    "print(f'{degree_frani} degree fahrenheit = {round(util.convert_fahrenheit_to_centigrade(degree_frani),2)} degree centigrade ')"
   ]
  }
 ],
 "metadata": {
  "kernelspec": {
   "display_name": "Python 3 (ipykernel)",
   "language": "python",
   "name": "python3"
  },
  "language_info": {
   "codemirror_mode": {
    "name": "ipython",
    "version": 3
   },
   "file_extension": ".py",
   "mimetype": "text/x-python",
   "name": "python",
   "nbconvert_exporter": "python",
   "pygments_lexer": "ipython3",
   "version": "3.9.13"
  }
 },
 "nbformat": 4,
 "nbformat_minor": 5
}
