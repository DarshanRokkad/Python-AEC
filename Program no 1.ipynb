{
 "cells": [
  {
   "cell_type": "markdown",
   "id": "ba5559ed",
   "metadata": {},
   "source": [
    "# <font color = 'blue'> Program no .1 \n",
    "### Program to read a string of 4 characters from the user. Convert every character in the string to its next alphabet."
   ]
  },
  {
   "cell_type": "code",
   "execution_count": null,
   "id": "15f53c9e",
   "metadata": {},
   "outputs": [],
   "source": [
    "capital_letters = [chr(i) for i in range(65 , 65+26)]\n",
    "small_letters = [chr(i) for i in range(97 , 97+26)]\n",
    "\n",
    "def find_next_char(i):\n",
    "    if i in small_letters :\n",
    "        return small_letters[(small_letters.index(i)+1)%len(small_letters)]\n",
    "    elif i in capital_letters :\n",
    "        return capital_letters[(capital_letters.index(i)+1)%len(capital_letters)]\n",
    "    else :\n",
    "        return i\n",
    "\n",
    "characters = input(\"Enter 4 Character : \")[:4]\n",
    "\n",
    "next_characters = \"\"\n",
    "\n",
    "for i in characters:\n",
    "    next_characters += find_next_char(i)\n",
    "        \n",
    "print(next_characters)"
   ]
  },
  {
   "cell_type": "code",
   "execution_count": 2,
   "id": "19f8b530",
   "metadata": {},
   "outputs": [
    {
     "name": "stdout",
     "output_type": "stream",
     "text": [
      "Enter 4 Character : hA s\n",
      "iB t\n"
     ]
    }
   ],
   "source": [
    "def find_next_char(i):\n",
    "    if i == 'z':\n",
    "        return 'a'\n",
    "    elif i == 'Z':\n",
    "        return 'A'\n",
    "    elif (i >= 'a' and i<='z') or (i >= 'A' and i<='Z'):\n",
    "        return chr((ord(i)+1)) \n",
    "    else :\n",
    "        return i\n",
    "\n",
    "characters = input(\"Enter 4 Character : \")[:4]\n",
    "\n",
    "next_characters = \"\"\n",
    "\n",
    "for i in characters:\n",
    "    next_characters += find_next_char(i)\n",
    "        \n",
    "print(next_characters)"
   ]
  },
  {
   "cell_type": "code",
   "execution_count": null,
   "id": "8265301a",
   "metadata": {},
   "outputs": [],
   "source": []
  }
 ],
 "metadata": {
  "kernelspec": {
   "display_name": "Python 3 (ipykernel)",
   "language": "python",
   "name": "python3"
  },
  "language_info": {
   "codemirror_mode": {
    "name": "ipython",
    "version": 3
   },
   "file_extension": ".py",
   "mimetype": "text/x-python",
   "name": "python",
   "nbconvert_exporter": "python",
   "pygments_lexer": "ipython3",
   "version": "3.9.13"
  }
 },
 "nbformat": 4,
 "nbformat_minor": 5
}
