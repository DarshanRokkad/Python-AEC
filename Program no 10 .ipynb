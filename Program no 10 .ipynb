{
 "cells": [
  {
   "cell_type": "markdown",
   "id": "5ab295ed",
   "metadata": {},
   "source": [
    "# <font color = 'blue'> Program no 10\n",
    "### Python program to copy odd lines from one file to another file."
   ]
  },
  {
   "cell_type": "code",
   "execution_count": 3,
   "id": "75f9e721",
   "metadata": {},
   "outputs": [],
   "source": [
    "with open('file1.txt','r') as read_from_file:\n",
    "    with open('file2.txt','w') as write_to_file:\n",
    "        odd = True \n",
    "        for line in read_from_file:\n",
    "            if odd :\n",
    "                write_to_file.write(line)\n",
    "                odd = False\n",
    "            else :\n",
    "                odd = True"
   ]
  },
  {
   "cell_type": "code",
   "execution_count": null,
   "id": "cc923d40",
   "metadata": {},
   "outputs": [],
   "source": []
  }
 ],
 "metadata": {
  "kernelspec": {
   "display_name": "Python 3 (ipykernel)",
   "language": "python",
   "name": "python3"
  },
  "language_info": {
   "codemirror_mode": {
    "name": "ipython",
    "version": 3
   },
   "file_extension": ".py",
   "mimetype": "text/x-python",
   "name": "python",
   "nbconvert_exporter": "python",
   "pygments_lexer": "ipython3",
   "version": "3.9.13"
  }
 },
 "nbformat": 4,
 "nbformat_minor": 5
}
