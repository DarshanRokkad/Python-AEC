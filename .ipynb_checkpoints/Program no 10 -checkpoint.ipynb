{
 "cells": [
  {
   "cell_type": "markdown",
   "id": "4244251f",
   "metadata": {},
   "source": [
    "# <font color = 'blue'> Program no 10\n",
    "### Python program to copy odd lines from one file to another file."
   ]
  },
  {
   "cell_type": "code",
   "execution_count": null,
   "id": "a11ce016",
   "metadata": {},
   "outputs": [],
   "source": []
  }
 ],
 "metadata": {
  "kernelspec": {
   "display_name": "Python 3 (ipykernel)",
   "language": "python",
   "name": "python3"
  },
  "language_info": {
   "codemirror_mode": {
    "name": "ipython",
    "version": 3
   },
   "file_extension": ".py",
   "mimetype": "text/x-python",
   "name": "python",
   "nbconvert_exporter": "python",
   "pygments_lexer": "ipython3",
   "version": "3.9.13"
  }
 },
 "nbformat": 4,
 "nbformat_minor": 5
}
