{
 "cells": [
  {
   "cell_type": "markdown",
   "id": "22ca2aa3",
   "metadata": {},
   "source": [
    "# <font color = 'blue'> Program no 5\n",
    "### Given a list of strings, count and print the number of strings where the string length is 2 or more & the 1st & last characters are same."
   ]
  },
  {
   "cell_type": "code",
   "execution_count": 1,
   "id": "60b68e24",
   "metadata": {},
   "outputs": [
    {
     "name": "stdout",
     "output_type": "stream",
     "text": [
      "Enter the string to add to list(Enter 0 to stop) : hello\n",
      "Enter the string to add to list(Enter 0 to stop) : bye\n",
      "Enter the string to add to list(Enter 0 to stop) : nun\n",
      "Enter the string to add to list(Enter 0 to stop) : uoy\n",
      "Enter the string to add to list(Enter 0 to stop) : ilu\n",
      "Enter the string to add to list(Enter 0 to stop) : uyu\n",
      "Enter the string to add to list(Enter 0 to stop) : hy\n",
      "Enter the string to add to list(Enter 0 to stop) : 0\n",
      "There are 2 number of string whose length is 2 or more and first and last letter is same.\n"
     ]
    }
   ],
   "source": [
    "list_of_strings = []\n",
    "while(True):\n",
    "    st = input(\"Enter the string to add to list(Enter 0 to stop) : \")\n",
    "    if st == '0':\n",
    "        break\n",
    "    list_of_strings.append(st)\n",
    "\n",
    "count = 0 \n",
    "for string in list_of_strings:\n",
    "    if len(string) >= 2 and string[0]==string[-1] :\n",
    "        count+=1\n",
    "\n",
    "print(f\"There are {count} number of string whose length is 2 or more and first and last letter is same.\")"
   ]
  },
  {
   "cell_type": "code",
   "execution_count": 9,
   "id": "fa3042e3",
   "metadata": {},
   "outputs": [
    {
     "name": "stdout",
     "output_type": "stream",
     "text": [
      "Enter the string to add to list(Enter 0 to stop) : uyu\n",
      "Enter the string to add to list(Enter 0 to stop) : eyey\n",
      "Enter the string to add to list(Enter 0 to stop) : eye\n",
      "Enter the string to add to list(Enter 0 to stop) : 0\n",
      "There are 2 number of string whose length is 2 or more and first and last letter is same.\n"
     ]
    }
   ],
   "source": [
    "list_of_strings = []\n",
    "while(True):\n",
    "    st = input(\"Enter the string to add to list(Enter 0 to stop) : \")\n",
    "    if st == '0':\n",
    "        break\n",
    "    list_of_strings.append(st)\n",
    "    \n",
    "s=[]\n",
    "count = len([s.append(i) for i in list_of_strings if len(i) >= 2 and i[0]==i[-1]])\n",
    "print(f\"There are {count} number of string whose length is 2 or more and first and last letter is same.\")"
   ]
  },
  {
   "cell_type": "code",
   "execution_count": null,
   "id": "01e57971",
   "metadata": {},
   "outputs": [],
   "source": []
  }
 ],
 "metadata": {
  "kernelspec": {
   "display_name": "Python 3 (ipykernel)",
   "language": "python",
   "name": "python3"
  },
  "language_info": {
   "codemirror_mode": {
    "name": "ipython",
    "version": 3
   },
   "file_extension": ".py",
   "mimetype": "text/x-python",
   "name": "python",
   "nbconvert_exporter": "python",
   "pygments_lexer": "ipython3",
   "version": "3.9.13"
  }
 },
 "nbformat": 4,
 "nbformat_minor": 5
}
