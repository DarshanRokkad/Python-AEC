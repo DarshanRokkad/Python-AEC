{
 "cells": [
  {
   "cell_type": "markdown",
   "id": "634b9ba1",
   "metadata": {},
   "source": [
    "# <font color = 'blue'> Program no 2\n",
    "## Write a python program to simulate working of simple calculator."
   ]
  },
  {
   "cell_type": "code",
   "execution_count": 1,
   "id": "2cd44eb1",
   "metadata": {},
   "outputs": [
    {
     "name": "stdout",
     "output_type": "stream",
     "text": [
      "Enter the number 1 : 67\n",
      "Enter the number 2 : 98\n",
      "Enter the operator : +\n",
      "67 + 98 = 165\n"
     ]
    }
   ],
   "source": [
    "a = int(input(\"Enter the number 1 : \"))\n",
    "b = int(input(\"Enter the number 2 : \"))\n",
    "op = input(\"Enter the operator : \")[0]\n",
    "\n",
    "if op == '+':\n",
    "    print(f\"{a} + {b} = {a+b}\")\n",
    "elif op == '-':\n",
    "    print(f\"{a} - {b} = {a-b}\")\n",
    "elif op == '*':\n",
    "    print(f\"{a} * {b} = {a*b}\")\n",
    "elif op == '/':\n",
    "    print(f\"{a} / {b} = {a/b}\")\n",
    "elif op == '%':\n",
    "    print(f\"{a} % {b} = {a%b}\")\n",
    "else:\n",
    "    print(\"Invalid operator.\")"
   ]
  },
  {
   "cell_type": "code",
   "execution_count": null,
   "id": "4248e391",
   "metadata": {},
   "outputs": [],
   "source": []
  }
 ],
 "metadata": {
  "kernelspec": {
   "display_name": "Python 3 (ipykernel)",
   "language": "python",
   "name": "python3"
  },
  "language_info": {
   "codemirror_mode": {
    "name": "ipython",
    "version": 3
   },
   "file_extension": ".py",
   "mimetype": "text/x-python",
   "name": "python",
   "nbconvert_exporter": "python",
   "pygments_lexer": "ipython3",
   "version": "3.9.13"
  }
 },
 "nbformat": 4,
 "nbformat_minor": 5
}
