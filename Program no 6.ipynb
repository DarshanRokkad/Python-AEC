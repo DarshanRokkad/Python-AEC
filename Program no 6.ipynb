{
 "cells": [
  {
   "cell_type": "markdown",
   "id": "9a8c1bcc",
   "metadata": {},
   "source": [
    "# <font color = 'blue'> Program no 6\n",
    "\n",
    "### Write a python program to accept a sequence of whitespace separated words as input and prints the words after removing all duplicate words and sorting them alphanumerically."
   ]
  },
  {
   "cell_type": "code",
   "execution_count": 5,
   "id": "e47b43ae",
   "metadata": {},
   "outputs": [
    {
     "name": "stdout",
     "output_type": "stream",
     "text": [
      "Enter the whitespace separated words : heye 8 2 hellw 7e 2s heel 21\n",
      "['heye', 'hellw', 'heel', '21', '8', '7e', '2s', '2']\n"
     ]
    }
   ],
   "source": [
    "import re\n",
    "\n",
    "reg = re.compile('([0-9]+)')\n",
    "def natural_sort_key(s):\n",
    "    return [int(text) if text.isdigit() else text.lower()\n",
    "            for text in re.split(reg, s)]  \n",
    "    \n",
    "\n",
    "string = input(\"Enter the whitespace separated words : \")\n",
    "\n",
    "unique_words = list(set(string.split(' ')))\n",
    "unique_words.sort(key = natural_sort_key)\n",
    "unique_words.reverse()\n",
    "print(unique_words)"
   ]
  },
  {
   "cell_type": "code",
   "execution_count": null,
   "id": "843977c0",
   "metadata": {},
   "outputs": [],
   "source": []
  },
  {
   "cell_type": "code",
   "execution_count": null,
   "id": "88870ecb",
   "metadata": {},
   "outputs": [],
   "source": []
  },
  {
   "cell_type": "code",
   "execution_count": null,
   "id": "8e419e83",
   "metadata": {},
   "outputs": [],
   "source": []
  }
 ],
 "metadata": {
  "kernelspec": {
   "display_name": "Python 3 (ipykernel)",
   "language": "python",
   "name": "python3"
  },
  "language_info": {
   "codemirror_mode": {
    "name": "ipython",
    "version": 3
   },
   "file_extension": ".py",
   "mimetype": "text/x-python",
   "name": "python",
   "nbconvert_exporter": "python",
   "pygments_lexer": "ipython3",
   "version": "3.9.13"
  }
 },
 "nbformat": 4,
 "nbformat_minor": 5
}
