{
 "cells": [
  {
   "cell_type": "markdown",
   "id": "e8908243",
   "metadata": {},
   "source": [
    "# <font color = 'blue'> Program no 4\n",
    "### Write a Program to print the following pattern.\n",
    "### A\n",
    "### B C D\n",
    "### E F G H I\n",
    "### J K L M N O P\n",
    "### Q R S T U V W X Y"
   ]
  },
  {
   "cell_type": "code",
   "execution_count": 4,
   "id": "df893623",
   "metadata": {},
   "outputs": [
    {
     "name": "stdout",
     "output_type": "stream",
     "text": [
      "Enter the number of rows : 5\n",
      "A \n",
      "B C D \n",
      "E F G H I \n",
      "J K L M N O P \n",
      "Q R S T U V W X Y \n"
     ]
    }
   ],
   "source": [
    "n = int(input(\"Enter the number of rows : \"))\n",
    "count = 0\n",
    "for i in range(1,n+1):\n",
    "    for j in range(2*i-1):\n",
    "        print(chr(ord('A')+count),end=' ')\n",
    "        count+=1\n",
    "    print()"
   ]
  },
  {
   "cell_type": "code",
   "execution_count": null,
   "id": "938722fd",
   "metadata": {},
   "outputs": [],
   "source": []
  }
 ],
 "metadata": {
  "kernelspec": {
   "display_name": "Python 3 (ipykernel)",
   "language": "python",
   "name": "python3"
  },
  "language_info": {
   "codemirror_mode": {
    "name": "ipython",
    "version": 3
   },
   "file_extension": ".py",
   "mimetype": "text/x-python",
   "name": "python",
   "nbconvert_exporter": "python",
   "pygments_lexer": "ipython3",
   "version": "3.9.13"
  }
 },
 "nbformat": 4,
 "nbformat_minor": 5
}
